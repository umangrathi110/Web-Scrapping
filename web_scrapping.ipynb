{
  "nbformat": 4,
  "nbformat_minor": 0,
  "metadata": {
    "colab": {
      "provenance": [],
      "authorship_tag": "ABX9TyPVPD9NvrIV2AdAiuXZcDtt",
      "include_colab_link": true
    },
    "kernelspec": {
      "name": "python3",
      "display_name": "Python 3"
    },
    "language_info": {
      "name": "python"
    }
  },
  "cells": [
    {
      "cell_type": "markdown",
      "metadata": {
        "id": "view-in-github",
        "colab_type": "text"
      },
      "source": [
        "<a href=\"https://colab.research.google.com/github/umangrathi110/Web-Scrapping/blob/main/web_scrapping.ipynb\" target=\"_parent\"><img src=\"https://colab.research.google.com/assets/colab-badge.svg\" alt=\"Open In Colab\"/></a>"
      ]
    },
    {
      "cell_type": "code",
      "execution_count": null,
      "metadata": {
        "id": "Uuu4Qafb0HVd"
      },
      "outputs": [],
      "source": [
        "import requests\n",
        "import pandas as pd"
      ]
    },
    {
      "cell_type": "code",
      "source": [
        "from bs4 import BeautifulSoup"
      ],
      "metadata": {
        "id": "Vkl4GcUb6Ea2"
      },
      "execution_count": null,
      "outputs": []
    },
    {
      "cell_type": "code",
      "source": [
        "file = []\n",
        "for j in range(1,46):\n",
        "  headers = {'User-Agent': 'Mozilla/5.0 (Windows NT 10.0; Win64; x64) AppleWebKit/537.36 (KHTML, like Gecko) Chrome/109.0.0.0 Safari/537.36',}\n",
        "  url = f'https://rategain.com/blog/page/{j}/'\n",
        "  r = requests.get(url, headers = headers)\n",
        "  soup = BeautifulSoup(r.content, features = 'lxml')\n",
        "  articles = soup.find_all('article', class_= 'blog-item category-blog with-image')\n",
        "  for i in articles:\n",
        "    t = i.find('h6').text\n",
        "    d = i.find('span').text\n",
        "    div = i.find({'div' : 'blog-detail'})\n",
        "    span = div.find_next('span').find_next('span').find_next('span').find_next('span').text\n",
        "    url = i.find('div', class_= 'img').find('a')\n",
        "    link = url['data-bg']\n",
        "    file.append([t, d,span, link])\n"
      ],
      "metadata": {
        "id": "8zFxJrXASCE6"
      },
      "execution_count": null,
      "outputs": []
    },
    {
      "cell_type": "code",
      "source": [
        "df = pd.DataFrame(file, columns = ['Title', 'Date', 'Likes', 'Image_url'])"
      ],
      "metadata": {
        "id": "UJZBBp6h6DYy"
      },
      "execution_count": null,
      "outputs": []
    },
    {
      "cell_type": "code",
      "source": [
        "df.to_csv('file.csv')"
      ],
      "metadata": {
        "id": "haOlQln21IUr"
      },
      "execution_count": null,
      "outputs": []
    },
    {
      "cell_type": "code",
      "source": [],
      "metadata": {
        "id": "S0QbByXZvwXr"
      },
      "execution_count": null,
      "outputs": []
    }
  ]
}